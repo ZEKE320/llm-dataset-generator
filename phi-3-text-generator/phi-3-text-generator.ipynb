{
 "cells": [
  {
   "cell_type": "code",
   "execution_count": null,
   "metadata": {},
   "outputs": [],
   "source": [
    "from langchain_community.llms.ollama import Ollama\n",
    "\n",
    "llm = Ollama(model=\"phi3:14b\", base_url=\"http://host.docker.internal:11434\")\n",
    "\n",
    "llm.invoke(\"Hi.\")"
   ]
  },
  {
   "cell_type": "code",
   "execution_count": null,
   "metadata": {},
   "outputs": [],
   "source": [
    "for chunk in llm.stream(\"Generate a 100-sentence fictitious article.\"):\n",
    "    print(chunk, flush=True, end=\"\")"
   ]
  },
  {
   "cell_type": "code",
   "execution_count": null,
   "metadata": {},
   "outputs": [],
   "source": [
    "import spacy\n",
    "\n",
    "spacy.cli.download(\"en_core_web_sm\")"
   ]
  },
  {
   "cell_type": "code",
   "execution_count": 43,
   "metadata": {},
   "outputs": [],
   "source": [
    "from langchain.chains.conversation.base import ConversationChain\n",
    "from langchain.memory import ConversationBufferMemory\n",
    "from langchain.prompts import PromptTemplate\n",
    "from spacy.language import Language\n",
    "from spacy.tokens.doc import Doc\n",
    "\n",
    "\n",
    "def generate_article(target_sentence_count: int) -> str:\n",
    "    llm = Ollama(model=\"phi3:14b\", base_url=\"http://host.docker.internal:11434\")\n",
    "    memory = ConversationBufferMemory()\n",
    "    conversation = ConversationChain(llm=llm, memory=memory)\n",
    "\n",
    "    first_prompt_template = PromptTemplate(\n",
    "        template=\"Generate a {target_sentence_count}-sentence fictitious article.\",\n",
    "        input_variables=[\"target_sentence_count\"],\n",
    "    )\n",
    "    continuation_prompt_template = PromptTemplate(\n",
    "        template=\"Write a {target_sentence_count}-sentence sequel to the previous article.\",\n",
    "        input_variables=[\"target_sentence_count\"],\n",
    "    )\n",
    "\n",
    "    result = conversation.predict(\n",
    "        input=first_prompt_template.format(\n",
    "            target_sentence_count=target_sentence_count,\n",
    "        )\n",
    "    )\n",
    "    print(result)\n",
    "\n",
    "    nlp: Language = spacy.load(name=\"en_core_web_sm\")\n",
    "    doc = nlp(result)\n",
    "    sentence_count = len(list(doc.sents))\n",
    "    print(f\"---\\nCurrent sentence count: {sentence_count}\\n---\")\n",
    "\n",
    "    while sentence_count < target_sentence_count:\n",
    "        response: str = conversation.predict(\n",
    "            input=continuation_prompt_template.format(\n",
    "                target_sentence_count=target_sentence_count,\n",
    "            )\n",
    "        )\n",
    "        print(response)\n",
    "\n",
    "        result: str = \"\\n\\n\".join(\n",
    "            (\n",
    "                result,\n",
    "                response,\n",
    "            )\n",
    "        )\n",
    "        doc: Doc = nlp(result)\n",
    "        sentence_count: int = len(tuple(doc.sents))\n",
    "        print(f\"---\\nCurrent sentence count: {sentence_count}\\n---\")\n",
    "\n",
    "    return result"
   ]
  },
  {
   "cell_type": "code",
   "execution_count": null,
   "metadata": {},
   "outputs": [],
   "source": [
    "from datetime import datetime\n",
    "from pathlib import Path\n",
    "\n",
    "TARGET_SENTENCE_COUNT = 100\n",
    "OUTPUT_FILE_COUNT = 10\n",
    "OUTPUT_DIRECTORY = \"out\"\n",
    "\n",
    "cwd: Path = Path.cwd()\n",
    "output_dir_path = Path(cwd, OUTPUT_DIRECTORY)\n",
    "output_dir_path.mkdir(parents=True, exist_ok=True)\n",
    "\n",
    "for i in range(OUTPUT_FILE_COUNT):\n",
    "    result: str = generate_article(target_sentence_count=TARGET_SENTENCE_COUNT)\n",
    "\n",
    "    current_time: str = datetime.now().strftime(\"%Y-%m-%d_%H:%M:%S\")\n",
    "    filename: str = f\"article_{current_time}.txt\"\n",
    "    filepath: Path = output_dir_path.joinpath(filename)\n",
    "    with open(file=filepath, mode=\"w\") as f:\n",
    "        f.write(result)"
   ]
  }
 ],
 "metadata": {
  "kernelspec": {
   "display_name": "Python 3",
   "language": "python",
   "name": "python3"
  },
  "language_info": {
   "codemirror_mode": {
    "name": "ipython",
    "version": 3
   },
   "file_extension": ".py",
   "mimetype": "text/x-python",
   "name": "python",
   "nbconvert_exporter": "python",
   "pygments_lexer": "ipython3",
   "version": "3.12.3"
  }
 },
 "nbformat": 4,
 "nbformat_minor": 2
}
